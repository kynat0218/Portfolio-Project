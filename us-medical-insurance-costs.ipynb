{
 "cells": [
  {
   "cell_type": "markdown",
   "metadata": {},
   "source": [
    "# U.S. Medical Insurance Costs"
   ]
  },
  {
   "cell_type": "markdown",
   "metadata": {},
   "source": [
    "#### Requirements\n",
    " * Create a Patient Class with methods that return their information\n",
    " * Create a Patient Dictionary\n",
    "\n",
    "#### Goals\n",
    "\n",
    "1. What is the average age of the patients in this dataset?\n",
    "2. What is the difference in average insurance costs between:\n",
    "    * males & females\n",
    "    * smokers & non-smokers\n",
    "    * age groups\n",
    "    * regions\n",
    "3. Which region has the highest average BMI?\n",
    "4. What is the average insurance cost by number of children?"
   ]
  },
  {
   "cell_type": "markdown",
   "metadata": {},
   "source": [
    "#### Data Prep"
   ]
  },
  {
   "cell_type": "code",
   "execution_count": 65,
   "metadata": {},
   "outputs": [
    {
     "name": "stdout",
     "output_type": "stream",
     "text": [
      "Total number of rows: 1338\n",
      "<class 'int'>\n",
      "<class 'str'>\n",
      "<class 'float'>\n",
      "<class 'str'>\n",
      "<class 'str'>\n",
      "<class 'str'>\n",
      "<class 'float'>\n"
     ]
    }
   ],
   "source": [
    "# Import and load columns as Python lists\n",
    "\n",
    "import csv\n",
    "\n",
    "age = []\n",
    "sex = []\n",
    "bmi = []\n",
    "children = []\n",
    "smoker = []\n",
    "region = []\n",
    "charges = []\n",
    "data_list = [age, sex, bmi, children, smoker, region, charges]\n",
    "\n",
    "# opening insurance.csv file\n",
    "with open('insurance.csv') as ins_data:\n",
    "    # reading insurance.csv\n",
    "    ins_data_output = csv.DictReader(ins_data)\n",
    "    # iterating through rows and appending row data to each parameter list\n",
    "    for data in ins_data_output:\n",
    "        age.append(int(data['age']))\n",
    "        sex.append(data['sex'])\n",
    "        bmi.append(float(data['bmi']))\n",
    "        children.append(data['children'])\n",
    "        smoker.append(data['smoker'])\n",
    "        region.append(data['region'])\n",
    "        charges.append(float(data['charges']))\n",
    "\n",
    "# Total number of rows: 1338\n",
    "print(\"Total number of rows:\", len(age))\n",
    "\n",
    "#Check type\n",
    "for data in data_list:\n",
    "    print(type(data[0]))\n",
    "\n",
    "# 1 int; 5 str; 1 float\n"
   ]
  },
  {
   "cell_type": "markdown",
   "metadata": {},
   "source": [
    "##### Create Patient Class\n",
    "\n",
    "Creating a Patient class with the following methods to easily retrieve information:\n",
    " - `average_ages()`\n",
    " - `analyze_sexes()`\n",
    " - `analyze_regions()`\n",
    " - `average_charges()`\n",
    " - `analyze_smokers()`\n",
    " - `cost_by_children()`"
   ]
  },
  {
   "cell_type": "code",
   "execution_count": 66,
   "metadata": {},
   "outputs": [],
   "source": [
    "class Patient:\n",
    "    # initializing class and adding in parameters\n",
    "    def __init__(self, age, sex, bmi, children, smoker, region, charges):\n",
    "        self.age = age\n",
    "        self.sex = sex\n",
    "        self.bmi = bmi\n",
    "        self.children = children\n",
    "        self.smoker = smoker\n",
    "        self.region = region\n",
    "        self.charges = charges\n",
    "    \n",
    "    # finding the average age of patients in the dataset\n",
    "    def average_ages(self):\n",
    "        # set the total amount to 0\n",
    "        total_age = 0\n",
    "        # iterate through the ages in the age list\n",
    "        for age in self.age:\n",
    "            # add each age to the total\n",
    "            total_age += age\n",
    "        # assigning average age to a variable\n",
    "        average_age = total_age / len(self.age)\n",
    "        # return average age\n",
    "        return \"Patient average age: {:.0f}\".format(average_age)\n",
    "    \n",
    "    # finding the total number of males and females\n",
    "    def analyze_sexes(self):\n",
    "        # initializing counters as 0\n",
    "        males = 0\n",
    "        females = 0\n",
    "        # iterating through data in the sex list\n",
    "        for sex in self.sex:\n",
    "            # increasing counter for each sex\n",
    "            if sex == 'male':\n",
    "                males += 1\n",
    "            else:\n",
    "                females += 1\n",
    "        # calculating for the percentage share of each sex\n",
    "        males_perc = (males / (males + females)) * 100\n",
    "        females_perc = (females / (males + females)) * 100\n",
    "        # printing the total count and percentage share for males and females\n",
    "        return \"The number of males are: {}, or {:.1f}% of the patients\\nThe number of females are: {}, or {:.1f}% of the patients\".format(males, males_perc, females, females_perc)\n",
    "\n",
    "    # finding the total number of patients in each region\n",
    "    def analyze_regions(self):\n",
    "        # initializing counters as dictionary keys\n",
    "        region_dict = {'southwest': 0, 'southeast': 0, 'northwest': 0, 'northeast': 0}\n",
    "        # iterating through rows in the region list\n",
    "        for reg in self.region:\n",
    "            # creating condition to find the data's matching key in region_dict\n",
    "            if reg in region_dict.keys():\n",
    "                # adding to appropriate key counter\n",
    "                region_dict[reg] += 1\n",
    "        # return dictionary with total amounts\n",
    "        return \"The breakdown per region is as follows: \" + str(region_dict)\n",
    "\n",
    "    # finding the average insurance cost for the dateset\n",
    "    def average_charges(self):\n",
    "        # set the total amount to 0\n",
    "        total_charges = 0\n",
    "        # iterate through each charge in charges list\n",
    "        for charge in self.charges:\n",
    "            # add each cost to the total amount\n",
    "            total_charges += charge\n",
    "        # calculate for average insurance cost\n",
    "        average_charges = total_charges / len(self.charges)\n",
    "        # return average cost\n",
    "        return \"Patient average insurance cost: {:.2f}\".format(average_charges)\n",
    "\n",
    "        \n",
    "    # create method to count number of smokers and non-smokers\n",
    "    def analyze_smokers(self):\n",
    "        # initialize counters to 0\n",
    "        smokers = 0\n",
    "        non_smokers = 0\n",
    "        # iterate through each patient in the smoker list\n",
    "        for patient in self.smoker:\n",
    "            # create conditional to update the appropriate counters\n",
    "            if patient == 'yes':\n",
    "                smokers += 1\n",
    "            else:\n",
    "                non_smokers += 1\n",
    "        dict = {'Smokers': smokers, 'Non-smokers': non_smokers}\n",
    "        # return results as total number of smokers and non-smokers\n",
    "        return dict\n",
    "\n",
    "    # finding average insurance cost using number of children as categories \n",
    "    def cost_by_children(self):\n",
    "        # extracting unique values using set()\n",
    "        category = sorted(set(self.children))\n",
    "        # creating dictionary with number of children as keys and count, total insurance cost as values\n",
    "        dict = {x: [0, 0] for x in category}\n",
    "        # iterating through the children list to update dictionary counter\n",
    "        for children, charge in zip(self.children, self.charges):\n",
    "            dict[children][0] += 1\n",
    "            dict[children][1] += int(charge)\n",
    "        # iterating through dictionary values to get average\n",
    "        for values in dict.keys():\n",
    "            dict[values] = '$' + str(int(dict[values][1] / dict[values][0]))\n",
    "        # return total for each number of children\n",
    "        return dict\n",
    "        \n",
    "\n",
    "\n",
    "\n"
   ]
  },
  {
   "cell_type": "markdown",
   "metadata": {},
   "source": [
    "#### Analysis\n"
   ]
  },
  {
   "cell_type": "code",
   "execution_count": 67,
   "metadata": {},
   "outputs": [],
   "source": [
    "# Instantiate the Patient class\n",
    "patient_info = Patient(age, sex, bmi, children, smoker, region, charges)\n"
   ]
  },
  {
   "cell_type": "markdown",
   "metadata": {},
   "source": [
    "Average Age\n"
   ]
  },
  {
   "cell_type": "code",
   "execution_count": 68,
   "metadata": {},
   "outputs": [
    {
     "data": {
      "text/plain": [
       "'Patient average age: 39'"
      ]
     },
     "execution_count": 68,
     "metadata": {},
     "output_type": "execute_result"
    }
   ],
   "source": [
    "# Using class method to find the average age of patients in the insurance.csv dataset\n",
    "\n",
    "patient_info.average_ages()\n"
   ]
  },
  {
   "cell_type": "markdown",
   "metadata": {},
   "source": [
    "Difference in average insurance costs between males and females"
   ]
  },
  {
   "cell_type": "code",
   "execution_count": 69,
   "metadata": {},
   "outputs": [
    {
     "name": "stdout",
     "output_type": "stream",
     "text": [
      "The number of males are: 676, or 50.5% of the patients\n",
      "The number of females are: 662, or 49.5% of the patients\n",
      "Average insurance cost for males: $13956.75\n",
      "Average insurance cost for females: $12569.58\n",
      "Average insurance costs for males are higher by $1387.17.\n"
     ]
    }
   ],
   "source": [
    "# Determining the gender distribution in the dataset\n",
    "\n",
    "print(patient_info.analyze_sexes())\n",
    "# Gender ratio is almost 50-50\n",
    "\n",
    "# Initializing variables required for analysis\n",
    "male_count = 0\n",
    "female_count = 0\n",
    "male_charges = 0\n",
    "female_charges = 0\n",
    "\n",
    "# Iterating through the sex and charges list, counting by category and charges\n",
    "for x, y in zip(sex, charges):\n",
    "    if x == 'male':\n",
    "        male_count += 1\n",
    "        male_charges += y\n",
    "    else:\n",
    "        female_count += 1\n",
    "        female_charges += y\n",
    "\n",
    "# Calculating average amounts for each sex\n",
    "avg_males = male_charges / male_count\n",
    "avg_females = female_charges / female_count\n",
    "\n",
    "print(\"Average insurance cost for males: ${:.2f}\".format(avg_males))\n",
    "print(\"Average insurance cost for females: ${:.2f}\".format(avg_females))\n",
    "\n",
    "# Calculating difference\n",
    "if avg_males > avg_females:\n",
    "    print(\"Average insurance costs for males are higher by ${:.2f}.\".format(avg_males - avg_females))\n",
    "elif avg_females == avg_males:\n",
    "    print(\"Average insurance costs for males and females are equal.\")\n",
    "else:\n",
    "    print(\"Average insurance costs for females are higher by ${:.2f}.\".format(avg_females - avg_males))\n"
   ]
  },
  {
   "cell_type": "markdown",
   "metadata": {},
   "source": [
    "Difference in average insurance costs between smokers and non-smokers"
   ]
  },
  {
   "cell_type": "code",
   "execution_count": 70,
   "metadata": {},
   "outputs": [
    {
     "data": {
      "text/plain": [
       "{'Smokers': 274, 'Non-smokers': 1064}"
      ]
     },
     "execution_count": 70,
     "metadata": {},
     "output_type": "execute_result"
    }
   ],
   "source": [
    "# Use class method to count total number of smokers and non-smokers\n",
    "patient_info.analyze_smokers()\n"
   ]
  },
  {
   "cell_type": "markdown",
   "metadata": {},
   "source": [
    "Difference in average insurance costs between age groups"
   ]
  },
  {
   "cell_type": "code",
   "execution_count": 71,
   "metadata": {},
   "outputs": [
    {
     "data": {
      "text/plain": [
       "{range(1, 21): 0,\n",
       " range(21, 41): 0,\n",
       " range(41, 61): 0,\n",
       " range(61, 81): 0,\n",
       " range(81, 101): 0}"
      ]
     },
     "execution_count": 71,
     "metadata": {},
     "output_type": "execute_result"
    }
   ],
   "source": [
    "# Create a function that takes group size as an argument and returns age groups from 0-100 \n",
    "def create_age_group(size):\n",
    "    # Create list 0-100 incremented by size\n",
    "    group = list(range(0, 101, size))\n",
    "    age_group = []\n",
    "    #iterate through list and append the age groups\n",
    "    for i in range(len(group) - 1):\n",
    "        age_group.append(range(group[i] + 1, group[i + 1] + 1))\n",
    "    if 100 % size != 0:\n",
    "        age_group.append(range(100 - (100 % size), 101))\n",
    "    age_group_dict = {x: 0 for x in age_group}\n",
    "    return age_group_dict\n",
    "\n",
    "create_age_group(20)"
   ]
  },
  {
   "cell_type": "markdown",
   "metadata": {},
   "source": [
    "Age groups: size 10"
   ]
  },
  {
   "cell_type": "code",
   "execution_count": 72,
   "metadata": {},
   "outputs": [
    {
     "data": {
      "text/plain": [
       "{range(1, 11): 0,\n",
       " range(11, 21): 120543,\n",
       " range(21, 31): 123918,\n",
       " range(31, 41): 93482,\n",
       " range(41, 51): 98902,\n",
       " range(51, 61): 86954,\n",
       " range(61, 71): 30916,\n",
       " range(71, 81): 0,\n",
       " range(81, 91): 0,\n",
       " range(91, 101): 0}"
      ]
     },
     "execution_count": 72,
     "metadata": {},
     "output_type": "execute_result"
    }
   ],
   "source": [
    "age_group = create_age_group(10)\n",
    "\n",
    "age_group_count = age_group\n",
    "\n",
    "# Get total counts per age group\n",
    "for x in age:\n",
    "    for y in age_group_count.keys():\n",
    "        if x in y:\n",
    "            age_group_count[y] += 1\n",
    "\n",
    "# Get total charges per age group\n",
    "age_group_cost = age_group\n",
    "\n",
    "for x, y in zip(age, charges):\n",
    "    for z in age_group_count.keys():\n",
    "        if x in z:\n",
    "            age_group_cost[z] += int(y)\n",
    "\n",
    "# Get average\n",
    "avg_cost = {x[0]: int(x[1] / y[1]) for x, y in zip(age_group_cost.items(), age_group_count)}\n",
    "\n",
    "avg_cost"
   ]
  },
  {
   "cell_type": "markdown",
   "metadata": {},
   "source": [
    "Age groups: size 15"
   ]
  },
  {
   "cell_type": "code",
   "execution_count": 73,
   "metadata": {},
   "outputs": [
    {
     "data": {
      "text/plain": [
       "{range(1, 16): 0,\n",
       " range(16, 31): 245454,\n",
       " range(31, 46): 155728,\n",
       " range(46, 61): 142205,\n",
       " range(61, 76): 30916,\n",
       " range(76, 91): 0,\n",
       " range(90, 101): 0}"
      ]
     },
     "execution_count": 73,
     "metadata": {},
     "output_type": "execute_result"
    }
   ],
   "source": [
    "# Using the same for loops as above\n",
    "age_group = create_age_group(15)\n",
    "\n",
    "age_group_count = age_group\n",
    "\n",
    "# Get total counts per age group\n",
    "for x in age:\n",
    "    for y in age_group_count.keys():\n",
    "        if x in y:\n",
    "            age_group_count[y] += 1\n",
    "\n",
    "# Get total charges per age group\n",
    "age_group_cost = age_group\n",
    "\n",
    "for x, y in zip(age, charges):\n",
    "    for z in age_group_count.keys():\n",
    "        if x in z:\n",
    "            age_group_cost[z] += int(y)\n",
    "\n",
    "# Get average\n",
    "avg_cost = {x[0]: int(x[1] / y[1]) for x, y in zip(age_group_cost.items(), age_group_count)}\n",
    "\n",
    "avg_cost"
   ]
  },
  {
   "cell_type": "markdown",
   "metadata": {},
   "source": [
    "Difference in average insurance costs between regions"
   ]
  },
  {
   "cell_type": "code",
   "execution_count": 74,
   "metadata": {},
   "outputs": [
    {
     "data": {
      "text/plain": [
       "{'southwest': 12346,\n",
       " 'southeast': 14735,\n",
       " 'northwest': 12417,\n",
       " 'northeast': 13406}"
      ]
     },
     "execution_count": 74,
     "metadata": {},
     "output_type": "execute_result"
    }
   ],
   "source": [
    "# Using class method, get the total count of patients per region\n",
    "patient_info.analyze_regions()\n",
    "\n",
    "region_count = {'southwest': 325, 'southeast': 364, 'northwest': 325, 'northeast': 324}\n",
    "\n",
    "region_charges = {'southwest': 0, 'southeast': 0, 'northwest': 0, 'northeast': 0}\n",
    "for reg, charge in zip(region, charges):\n",
    "    region_charges[reg] += charge\n",
    "\n",
    "region_avg = {'southwest': 0, 'southeast': 0, 'northwest': 0, 'northeast': 0}\n",
    "\n",
    "for x, y in zip(region_charges.items(), region_count.values()):\n",
    "    region_avg[x[0]] = int(x[1] // y)\n",
    "\n",
    "region_avg"
   ]
  },
  {
   "cell_type": "markdown",
   "metadata": {},
   "source": [
    "Region with highest average BMI"
   ]
  },
  {
   "cell_type": "code",
   "execution_count": 75,
   "metadata": {},
   "outputs": [
    {
     "data": {
      "text/plain": [
       "{'southwest': 30, 'southeast': 33, 'northwest': 29, 'northeast': 29}"
      ]
     },
     "execution_count": 75,
     "metadata": {},
     "output_type": "execute_result"
    }
   ],
   "source": [
    "# Used variale region_count from previous analysis to determine total BMIs per region\n",
    "region_bmis = {'southwest': 0, 'southeast': 0, 'northwest': 0, 'northeast': 0}\n",
    "for reg, bmis in zip(region, bmi):\n",
    "    region_bmis[reg] += bmis\n",
    "\n",
    "avg_bmis = {'southwest': 0, 'southeast': 0, 'northwest': 0, 'northeast': 0}\n",
    "\n",
    "for x, y in zip(region_bmis.items(), region_count.values()):\n",
    "    avg_bmis[x[0]] = int(x[1] // y)\n",
    "\n",
    "#Region with highest average BMI is the Southeast region\n",
    "avg_bmis"
   ]
  },
  {
   "cell_type": "markdown",
   "metadata": {},
   "source": [
    "Average insurance cost by number of children"
   ]
  },
  {
   "cell_type": "code",
   "execution_count": 76,
   "metadata": {},
   "outputs": [
    {
     "data": {
      "text/plain": [
       "{'0': '$12365',\n",
       " '1': '$12730',\n",
       " '2': '$15073',\n",
       " '3': '$15354',\n",
       " '4': '$13850',\n",
       " '5': '$8785'}"
      ]
     },
     "execution_count": 76,
     "metadata": {},
     "output_type": "execute_result"
    }
   ],
   "source": [
    "patient_info.cost_by_children()"
   ]
  }
 ],
 "metadata": {
  "kernelspec": {
   "display_name": "Python 3",
   "language": "python",
   "name": "python3"
  },
  "language_info": {
   "codemirror_mode": {
    "name": "ipython",
    "version": 3
   },
   "file_extension": ".py",
   "mimetype": "text/x-python",
   "name": "python",
   "nbconvert_exporter": "python",
   "pygments_lexer": "ipython3",
   "version": "3.10.0"
  }
 },
 "nbformat": 4,
 "nbformat_minor": 4
}
