{
 "cells": [
  {
   "cell_type": "markdown",
   "metadata": {},
   "source": [
    "# U.S. Medical Insurance Costs"
   ]
  },
  {
   "cell_type": "markdown",
   "metadata": {},
   "source": [
    "#### Goals:\n",
    " * Create a Patient Class with methods that return their information\n",
    " * Create a Patient Dictionary\n",
    "\n",
    "#### Exploratory Data Analysis (Using Patient Dictionary)\n",
    "\n",
    "1. What is the average age of the patients in this dataset?\n",
    "2. What is the difference in average insurance costs between:\n",
    "    * males & females\n",
    "    * smokers & non-smokers\n",
    "    * age groups\n",
    "    * regions\n",
    "3. Which region has the highest average BMI?\n",
    "4. What is the average insurance cost by number of children?"
   ]
  },
  {
   "cell_type": "markdown",
   "metadata": {},
   "source": [
    "##### Data Prep"
   ]
  },
  {
   "cell_type": "code",
   "execution_count": 35,
   "metadata": {},
   "outputs": [
    {
     "name": "stdout",
     "output_type": "stream",
     "text": [
      "<class 'int'>\n",
      "<class 'str'>\n",
      "<class 'str'>\n",
      "<class 'str'>\n",
      "<class 'str'>\n",
      "<class 'str'>\n",
      "<class 'float'>\n"
     ]
    }
   ],
   "source": [
    "# Import and load columns as Python lists\n",
    "\n",
    "import csv\n",
    "\n",
    "age = []\n",
    "sex = []\n",
    "bmi = []\n",
    "children = []\n",
    "smoker = []\n",
    "region = []\n",
    "charges = []\n",
    "data_list = [age, sex, bmi, children, smoker, region, charges]\n",
    "\n",
    "# opening insurance.csv file\n",
    "with open('insurance.csv') as ins_data:\n",
    "    # reading insurance.csv\n",
    "    ins_data_output = csv.DictReader(ins_data)\n",
    "    # iterating through rows and appending row data to each parameter list\n",
    "    for data in ins_data_output:\n",
    "        age.append(int(data['age']))\n",
    "        sex.append(data['sex'])\n",
    "        bmi.append(data['bmi'])\n",
    "        children.append(data['children'])\n",
    "        smoker.append(data['smoker'])\n",
    "        region.append(data['region'])\n",
    "        charges.append(float(data['charges']))\n",
    "\n",
    "# Total number of rows: 1338\n",
    "len(age)\n",
    "\n",
    "#Check type\n",
    "for data in data_list:\n",
    "    print(type(data[0]))\n",
    "\n",
    "# 1 int; 5 str; 1 float\n"
   ]
  },
  {
   "cell_type": "markdown",
   "metadata": {},
   "source": [
    "##### Create Patient Class\n",
    "\n",
    "Creating a Patient class with the following methods to easily retrieve information:\n",
    " - `average_ages()`\n",
    " - `analyze_sexes()`\n",
    " - `analyze_regions()`\n",
    " - `average_charges()`\n",
    " - `create_age_groups()`\n",
    " - `analyze_smokers`\n",
    " - `cost_by_children()`"
   ]
  },
  {
   "cell_type": "code",
   "execution_count": 110,
   "metadata": {},
   "outputs": [],
   "source": [
    "class Patient:\n",
    "    # initializing class and adding in parameters\n",
    "    def __init__(self, age, sex, bmi, children, smoker, region, charges):\n",
    "        self.age = age\n",
    "        self.sex = sex\n",
    "        self.bmi = bmi\n",
    "        self.children = children\n",
    "        self.smoker = smoker\n",
    "        self.region = region\n",
    "        self.charges = charges\n",
    "    \n",
    "    # finding the average age of patients in the dataset\n",
    "    def average_ages(self):\n",
    "        # set the total amount to 0\n",
    "        total_age = 0\n",
    "        # iterate through the ages in the age list\n",
    "        for age in self.age:\n",
    "            # add each age to the total\n",
    "            total_age += age\n",
    "        # assigning average age to a variable\n",
    "        average_age = total_age / len(self.age)\n",
    "        # return average age\n",
    "        return \"Patient average age: {:.0f}\".format(average_age)\n",
    "    \n",
    "    # finding the total number of males and females\n",
    "    def analyze_sexes(self):\n",
    "        # initializing counters as 0\n",
    "        males = 0\n",
    "        females = 0\n",
    "        # iterating through data in the sex list\n",
    "        for sex in self.sex:\n",
    "            # increasing counter for each sex\n",
    "            if sex == 'male':\n",
    "                males += 1\n",
    "            else:\n",
    "                females += 1\n",
    "        # calculating for the percentage share of each sex\n",
    "        males_perc = (males / (males + females)) * 100\n",
    "        females_perc = (females / (males + females)) * 100\n",
    "        # returning the total count and percentage share for males and females\n",
    "        return '''The number of males are: {}, or {:.1f}\\% of the patients\n",
    "        The number of females are: {}, or {:.1f}\\% of the patients'''.format(males, males_perc, females, females_perc)\n",
    "\n",
    "    # finding the total number of patients in each region\n",
    "    def analyze_regions(self):\n",
    "        # initializing counters as dictionary keys\n",
    "        region_dict = {'southwest': 0, 'southeast': 0, 'northwest': 0, 'northeast': 0}\n",
    "        # iterating through rows in the region list\n",
    "        for reg in self.region:\n",
    "            # creating condition to find the data's matching key in region_dict\n",
    "            if reg in region_dict.keys():\n",
    "                # adding to appropriate key counter\n",
    "                region_dict[reg] += 1\n",
    "        # return dictionary with total amounts\n",
    "        return \"The breakdown per region is as follows: \" + str(region_dict)\n",
    "\n",
    "    # finding the average insurance cost for the dateset\n",
    "    def average_charges(self):\n",
    "        # set the total amount to 0\n",
    "        total_charges = 0\n",
    "        # iterate through each charge in charges list\n",
    "        for charge in self.charges:\n",
    "            # add each cost to the total amount\n",
    "            total_charges += charge\n",
    "        # calculate for average insurance cost\n",
    "        average_charges = total_charges / len(self.charges)\n",
    "        # return average cost\n",
    "        return \"Patient average insurance cost: {:.2f}\".format(average_charges)\n",
    "    \n",
    "    # create helper method for the create_age_groups method\n",
    "    @staticmethod\n",
    "    def check_age_range(age_range):\n",
    "        pass\n",
    "        \n",
    "\n",
    "    # creates a dictionary that returns 'age range' as keys and a value as a list of dictionaries containing patient information\n",
    "    # age_range should be a list in the format 'xx-xx' (e.g ['1-10', '11-20', '21-30'])\n",
    "    def create_age_groups(self, age_range):\n",
    "        if isinstance(age_range, list) == False:\n",
    "            return \"Second parameter should be a list.\"\n",
    "        else:\n",
    "            return \"Nice\"\n",
    "\n",
    "\n",
    "        \n",
    "\n"
   ]
  },
  {
   "cell_type": "code",
   "execution_count": 111,
   "metadata": {},
   "outputs": [
    {
     "name": "stdout",
     "output_type": "stream",
     "text": [
      "<class 'list'>\n",
      "[1, 2, 3, 4]\n"
     ]
    }
   ],
   "source": [
    "patient1 = Patient(age, sex, bmi, children, smoker, region, charges)\n",
    "\n",
    "hey = [1, 2, 3, 4]\n",
    "print(type(hey))\n",
    "patient1.create_age_groups([1, 2])\n",
    "patient1.check_age_range(hey, 'nice')"
   ]
  }
 ],
 "metadata": {
  "kernelspec": {
   "display_name": "Python 3",
   "language": "python",
   "name": "python3"
  },
  "language_info": {
   "codemirror_mode": {
    "name": "ipython",
    "version": 3
   },
   "file_extension": ".py",
   "mimetype": "text/x-python",
   "name": "python",
   "nbconvert_exporter": "python",
   "pygments_lexer": "ipython3",
   "version": "3.10.0"
  }
 },
 "nbformat": 4,
 "nbformat_minor": 4
}
